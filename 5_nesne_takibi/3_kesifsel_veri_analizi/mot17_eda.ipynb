{
 "cells": [
  {
   "cell_type": "code",
   "execution_count": 6,
   "id": "a9c1fa5c",
   "metadata": {},
   "outputs": [],
   "source": [
    "#kütüphaneleri import ediyoruz\n",
    "import pandas as pd\n",
    "import cv2\n",
    "import numpy as np\n",
    "import matplotlib.pyplot as plt\n",
    "import time\n",
    "import seaborn as sns #gorsellestirme kutuphanesidir\n"
   ]
  },
  {
   "cell_type": "code",
   "execution_count": 7,
   "id": "41e13100",
   "metadata": {},
   "outputs": [
    {
     "data": {
      "text/plain": [
       "'\\nhttps://motchallenge.net/vis/MOT17-13-SDP/det/\\nhttps://arxiv.org/pdf/1603.00831.pdf\\n'"
      ]
     },
     "execution_count": 7,
     "metadata": {},
     "output_type": "execute_result"
    }
   ],
   "source": [
    "# video hakkindaki bilgileri bu makalelerden ediniyoruz\n",
    "\"\"\"\n",
    "https://motchallenge.net/vis/MOT17-13-SDP/det/\n",
    "https://arxiv.org/pdf/1603.00831.pdf\n",
    "\"\"\"\n"
   ]
  },
  {
   "cell_type": "code",
   "execution_count": 8,
   "id": "de5fdf27",
   "metadata": {},
   "outputs": [
    {
     "name": "stderr",
     "output_type": "stream",
     "text": [
      "D:\\anaconda\\lib\\site-packages\\seaborn\\_decorators.py:36: FutureWarning: Pass the following variable as a keyword arg: x. From version 0.12, the only valid positional argument will be `data`, and passing other arguments without an explicit keyword will result in an error or misinterpretation.\n",
      "  warnings.warn(\n"
     ]
    },
    {
     "data": {
      "image/png": "[encoded data removed]",
      "text/plain": [
       "<Figure size 432x288 with 1 Axes>"
      ]
     },
     "metadata": {
      "needs_background": "light"
     },
     "output_type": "display_data"
    }
   ],
   "source": [
    "#makalelerde gt icerisindeki bilgilerin ne olduğunu öğreniyoruz \n",
    "#frame_number : frame bilgisi\n",
    "#identity_number: objeyi tanımladigimiz numara\n",
    "# left, top, width, height : olusturulan karenin konum bilgileri\n",
    "#score: ne kadar goruldugu\n",
    "#class: yaya mı, araç mı ne oldugunu burdan anliyoruz\n",
    "#visibility: görunurluk (mesela nesneyi tamamen gormusse 1 atiyoruz %80 ini goruyursak 0.8 atıyoryuz)\n",
    "col_list = [\"frame_number\",\"identity_number\",\"left\",\"top\",\"width\",\"height\",\"score\",\"class\",\"visibility\"]\n",
    "\n",
    "#gt.txt içerisindeki her bir famreye denk gelen bilgileri alıyoruz\n",
    "data = pd.read_csv(\"gt.txt\", names = col_list)\n",
    "\n",
    "#veri içerisinde kac farksli sinif old goserir\n",
    "plt.figure()\n",
    "sns.countplot(data[\"class\"])\n",
    "\n",
    "#arabaysa class 3'tür\n",
    "car = data[data[\"class\"] == 3]\n",
    "\n",
    "#videomuzu iceri aktariyoruz\n",
    "video_path = \"MOT17-13-SDP.mp4\"\n",
    "\n",
    "#videoyu okuyoruz\n",
    "cap = cv2.VideoCapture(video_path)\n",
    "\n",
    "#29 numaralı araci takip etmek istiyorum bu nedenle id 29 atiyorum\n",
    "id1 = 29\n",
    "numberOfImage = np.max(data[\"frame_number\"])\n",
    "fps = 25\n",
    "\n",
    "#arabamın bulundugu kutulari depolayacagim\n",
    "bound_box_list = []\n",
    "\n",
    "#son frameye kadar bir for aciyoruz daha sonra bu for icerisinde id si 29 olab arabayı kutu icerisine alacagiz\n",
    "for i in range(numberOfImage-1):\n",
    "    \n",
    "    ret, frame = cap.read()\n",
    "    \n",
    "    if ret:\n",
    "        #frame ozelliklerini yeniden tanimliyoruz\n",
    "        frame = cv2.resize(frame, dsize=(960,540))\n",
    "        \n",
    "        #id filtrelemesi yapıyoruz\n",
    "        filter_id1 = np.logical_and(car[\"frame_number\"] == i+1, car[\"identity_number\"]==id1)\n",
    "        \n",
    "        \n",
    "        \n",
    "        if len(car[filter_id1]) != 0:\n",
    "            \n",
    "            #kordinatları\n",
    "            x = int(car[filter_id1].left.values[0]/2)\n",
    "            y = int(car[filter_id1].top.values[0]/2)\n",
    "            w = int(car[filter_id1].width.values[0]/2)\n",
    "            h = int(car[filter_id1].height.values[0]/2)\n",
    "            \n",
    "            #arabayo kare içserisine aliyoruz\n",
    "            cv2.rectangle(frame, (x,y),(x+w,y+h),(0,255,0),2)\n",
    "            #ortasına bir nokta koyuyoruz\n",
    "            cv2.circle(frame, (int(x+w/2),int(y+h/2)), 2, (0,0,255),-1)\n",
    "            \n",
    "            # frame, x, y, genis, yuksek, center_x, center_y\n",
    "            bound_box_list.append([i, x,y,w,h,int(x+w/2),int(y+h/2)])\n",
    "            \n",
    "        #hangi framede oldugumuzu yaziyoruz       kordinat , font, renk ve kalinlik\n",
    "        cv2.putText(frame, \"Frame num:\"+str(i+1), (10,30), cv2.FONT_HERSHEY_SCRIPT_SIMPLEX,1,(0,0,255),2)\n",
    "        \n",
    "        #goster\n",
    "        cv2.imshow(\"frame\", frame)\n",
    "\n",
    "        if cv2.waitKey(1) & 0xFF == ord(\"q\"): break #q basınca fordan çık\n",
    "    else: break\n",
    "\n",
    "cap.release() #video dosyası kapatılır\n",
    "cv2.destroyAllWindows() #açılan tüm pencereler kapatılır.        \n",
    "  \n",
    "\n",
    "df = pd.DataFrame(bound_box_list, columns = [\"frame_no\", \"x\", \"y\", \"w\", \"h\", \"center_x\", \"center_y\"])\n",
    "      \n",
    "df.to_csv(\"gt_new.txt\",index=False)"
   ]
  },
  {
   "cell_type": "code",
   "execution_count": null,
   "id": "38c5732e",
   "metadata": {},
   "outputs": [],
   "source": []
  }
 ],
 "metadata": {
  "kernelspec": {
   "display_name": "Python 3 (ipykernel)",
   "language": "python",
   "name": "python3"
  },
  "language_info": {
   "codemirror_mode": {
    "name": "ipython",
    "version": 3
   },
   "file_extension": ".py",
   "mimetype": "text/x-python",
   "name": "python",
   "nbconvert_exporter": "python",
   "pygments_lexer": "ipython3",
   "version": "3.9.12"
  }
 },
 "nbformat": 4,
 "nbformat_minor": 5
}
