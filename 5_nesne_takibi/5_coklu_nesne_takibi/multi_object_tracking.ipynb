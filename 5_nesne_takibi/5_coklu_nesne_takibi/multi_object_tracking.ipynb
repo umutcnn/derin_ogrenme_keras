{
 "cells": [
  {
   "cell_type": "code",
   "execution_count": 1,
   "id": "47db0339",
   "metadata": {},
   "outputs": [],
   "source": [
    "#kutuphaneleri import edelim\n",
    "import cv2"
   ]
  },
  {
   "cell_type": "code",
   "execution_count": 3,
   "id": "eb4912a0",
   "metadata": {},
   "outputs": [
    {
     "name": "stdout",
     "output_type": "stream",
     "text": [
      "Desteklenen takip algoritmaları:\n",
      "- Tracker\n",
      "- TrackerDaSiamRPN\n",
      "- TrackerDaSiamRPN_Params\n",
      "- TrackerDaSiamRPN_create\n",
      "- TrackerGOTURN\n",
      "- TrackerGOTURN_Params\n",
      "- TrackerGOTURN_create\n",
      "- TrackerMIL\n",
      "- TrackerMIL_Params\n",
      "- TrackerMIL_create\n",
      "- TrackerNano\n",
      "- TrackerNano_Params\n",
      "- TrackerNano_create\n"
     ]
    }
   ],
   "source": [
    "#kütüphanemiz sürümüne göre belli başlı takip uygulamalarını destekleyecektir\n",
    "\n",
    "# Desteklenen takip algoritmalarını listele\n",
    "algorithms = [key for key in dir(cv2) if key.startswith(\"Tracker\")]\n",
    "\n",
    "print(\"Desteklenen takip algoritmaları:\")\n",
    "for alg in algorithms:\n",
    "    print(f\"- {alg}\")\n",
    "    \n"
   ]
  },
  {
   "cell_type": "code",
   "execution_count": 4,
   "id": "bf63d279",
   "metadata": {},
   "outputs": [
    {
     "ename": "AttributeError",
     "evalue": "module 'cv2' has no attribute 'legacy'",
     "output_type": "error",
     "traceback": [
      "\u001b[1;31m---------------------------------------------------------------------------\u001b[0m",
      "\u001b[1;31mAttributeError\u001b[0m                            Traceback (most recent call last)",
      "Input \u001b[1;32mIn [4]\u001b[0m, in \u001b[0;36m<cell line: 3>\u001b[1;34m()\u001b[0m\n\u001b[0;32m      1\u001b[0m \u001b[38;5;66;03m#desteklenen algoritmalarini yaziyotum\u001b[39;00m\n\u001b[0;32m      2\u001b[0m OpenCV_Object_Trackers\u001b[38;5;241m=\u001b[39m{\n\u001b[1;32m----> 3\u001b[0m     \u001b[38;5;124m\"\u001b[39m\u001b[38;5;124mboosting\u001b[39m\u001b[38;5;124m\"\u001b[39m:\u001b[43mcv2\u001b[49m\u001b[38;5;241;43m.\u001b[39;49m\u001b[43mlegacy\u001b[49m\u001b[38;5;241m.\u001b[39mTrackerBoosting_create,\n\u001b[0;32m      4\u001b[0m     \u001b[38;5;124m\"\u001b[39m\u001b[38;5;124mcsrt\u001b[39m\u001b[38;5;124m\"\u001b[39m:cv2\u001b[38;5;241m.\u001b[39mTrackerCSRT_create,\n\u001b[0;32m      5\u001b[0m     \u001b[38;5;124m\"\u001b[39m\u001b[38;5;124mkcf\u001b[39m\u001b[38;5;124m\"\u001b[39m:cv2\u001b[38;5;241m.\u001b[39mTrackerKCF_create,\n\u001b[0;32m      6\u001b[0m     \u001b[38;5;124m\"\u001b[39m\u001b[38;5;124mmosse\u001b[39m\u001b[38;5;124m\"\u001b[39m:cv2\u001b[38;5;241m.\u001b[39mlegacy\u001b[38;5;241m.\u001b[39mTrackerMOSSE_create,\n\u001b[0;32m      7\u001b[0m     \u001b[38;5;124m\"\u001b[39m\u001b[38;5;124mmil\u001b[39m\u001b[38;5;124m\"\u001b[39m:cv2\u001b[38;5;241m.\u001b[39mTrackerMIL_create,\n\u001b[0;32m      8\u001b[0m     \u001b[38;5;124m\"\u001b[39m\u001b[38;5;124mtld\u001b[39m\u001b[38;5;124m\"\u001b[39m:cv2\u001b[38;5;241m.\u001b[39mlegacy\u001b[38;5;241m.\u001b[39mTrackerTLD_create,\n\u001b[0;32m      9\u001b[0m     \u001b[38;5;124m\"\u001b[39m\u001b[38;5;124mmedianFlow\u001b[39m\u001b[38;5;124m\"\u001b[39m: cv2\u001b[38;5;241m.\u001b[39mlegacy\u001b[38;5;241m.\u001b[39mTrackerMedianFlow_create\n\u001b[0;32m     10\u001b[0m     }\n\u001b[0;32m     12\u001b[0m tracker_name \u001b[38;5;241m=\u001b[39m \u001b[38;5;124m\"\u001b[39m\u001b[38;5;124mkcf\u001b[39m\u001b[38;5;124m\"\u001b[39m  \u001b[38;5;66;03m#desteklenen algoritmalardan digerlerini de deneyebilirsin\u001b[39;00m\n\u001b[0;32m     13\u001b[0m trackers\u001b[38;5;241m=\u001b[39mcv2\u001b[38;5;241m.\u001b[39mlegacy\u001b[38;5;241m.\u001b[39mMultiTracker_create()\n",
      "\u001b[1;31mAttributeError\u001b[0m: module 'cv2' has no attribute 'legacy'"
     ]
    }
   ],
   "source": [
    "#desteklenen algoritmalarini yaziyotum\n",
    "OpenCV_Object_Trackers={\n",
    "    \"boosting\":cv2.legacy.TrackerBoosting_create,\n",
    "    \"csrt\":cv2.TrackerCSRT_create,\n",
    "    \"kcf\":cv2.TrackerKCF_create,\n",
    "    \"mosse\":cv2.legacy.TrackerMOSSE_create,\n",
    "    \"mil\":cv2.TrackerMIL_create,\n",
    "    \"tld\":cv2.legacy.TrackerTLD_create,\n",
    "    \"medianFlow\": cv2.legacy.TrackerMedianFlow_create\n",
    "    }\n",
    "\n",
    "tracker_name = \"kcf\"  #desteklenen algoritmalardan digerlerini de deneyebilirsin\n",
    "trackers=cv2.legacy.MultiTracker_create()\n",
    "print(\"Tracker:\", tracker_name)\n",
    "\n",
    "#videomuzu iceri aktariyoruz\n",
    "video_path = \"MOT17-04-SDP.mp4\"\n",
    "#videoyu okuyoruz\n",
    "cap = cv2.VideoCapture(video_path)\n",
    "\n",
    "\n",
    "# genel parametreler\n",
    "fps = 30 \n",
    "f = 0\n",
    "\n",
    "\n",
    "while True:\n",
    "    \n",
    "    \n",
    "    #video oku\n",
    "    ret, frame = cap.read()\n",
    "    \n",
    "    #yuksekligi ve genisligi aliyoruz\n",
    "    (H, W) = frame.shape[:2]\n",
    "    \n",
    "    #yukseklik ve genizlik bilgilerini guncelle\n",
    "    frame = cv2.resize(frame, dsize = (960,540))\n",
    "    \n",
    "    #trackerimizi update ediyor olacagiz\n",
    "    try:\n",
    "        (success, boxes) = trackers.update(frame)\n",
    "    except Exception as e:\n",
    "        print(f\"Exception: {e}\")\n",
    "        success = False\n",
    "        boxes = []\n",
    "    \n",
    "    #temel sonuclarimiz yazacak \n",
    "    #tracker name ve basarili mi basarisiz mi \n",
    "    info = [(\"Tracker\", tracker_name), (\"Success\", \"Yes\" if success else \"No\")]\n",
    "\n",
    "    string_text = \"\"\n",
    "\n",
    "    for (i, (k, v)) in enumerate(info):\n",
    "        text = \"{}: {}\".format(k, v)\n",
    "        string_text = string_text + text + \" \"\n",
    "    cv2.putText(frame, string_text, (10, 20), cv2.FONT_HERSHEY_SIMPLEX, 0.6, (191, 62, 255), 2)\n",
    "\n",
    "    for box in boxes:\n",
    "        #kordinatlari veriyoru\n",
    "        (x, y, w, h) = [int(v) for v in box]\n",
    "        #cizim yapiyorum\n",
    "        cv2.rectangle(frame, (x, y), (x + w, y + h), (191, 62, 255), 2)\n",
    "        \n",
    "    #gosteriyorum\n",
    "    cv2.imshow(\"Frame\", frame)\n",
    "    key = cv2.waitKey(1) & 0xFF\n",
    "            \n",
    "            \n",
    "    #t ise cizim aciyoruz    \n",
    "    if key == ord(\"t\"):\n",
    "        #selectROI :takip etmek istedigimiz bolge anlamina gelir\n",
    "        box = cv2.selectROI(\"Frame\", frame, fromCenter=False)\n",
    "\n",
    "        tracker = OPENCV_OBJECT_TRACKERS[tracker_name]()  \n",
    "        \n",
    "         # seçilen bölgeyle tracker'ı başlatıyoruz\n",
    "        trackers.add(tracker, frame, box)\n",
    "        \n",
    "    #q ise kapatiyoruz\n",
    "    elif key == ord(\"q\"):\n",
    "        break\n",
    "\n",
    "    f = f + 1\n",
    "\n",
    "cap.release()\n",
    "cv2.destroyAllWindows()"
   ]
  },
  {
   "cell_type": "code",
   "execution_count": null,
   "id": "d79a585f",
   "metadata": {},
   "outputs": [],
   "source": []
  }
 ],
 "metadata": {
  "kernelspec": {
   "display_name": "Python 3 (ipykernel)",
   "language": "python",
   "name": "python3"
  },
  "language_info": {
   "codemirror_mode": {
    "name": "ipython",
    "version": 3
   },
   "file_extension": ".py",
   "mimetype": "text/x-python",
   "name": "python",
   "nbconvert_exporter": "python",
   "pygments_lexer": "ipython3",
   "version": "3.9.12"
  }
 },
 "nbformat": 4,
 "nbformat_minor": 5
}
