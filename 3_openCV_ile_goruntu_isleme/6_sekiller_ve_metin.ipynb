{
 "cells": [
  {
   "cell_type": "code",
   "execution_count": 3,
   "id": "793fefbb",
   "metadata": {},
   "outputs": [
    {
     "name": "stdout",
     "output_type": "stream",
     "text": [
      "(512, 512, 3)\n"
     ]
    }
   ],
   "source": [
    "import cv2\n",
    "import numpy as np\n",
    "\n",
    "#resim olustur\n",
    "img=np.zeros((512,512,3),np.uint8)#siyah bir arka plan olustur\n",
    "print(img.shape)\n",
    "\n",
    "cv2.imshow(\"siyah\",img)\n",
    "\n",
    "\n",
    "#cizgi ekleme\n",
    "#hangi resime ekleyeceğin, başlangıç ve bitis noktalarını belirt, renk, cizginin kalınlığı\n",
    "cv2.line(img,(100,100), (100,300),(0,255,0),3 )#hangi resime ekleyeceğin, başlangıç ve bitis noktalarını belirt, renk, \n",
    "cv2.imshow(\"cizgi\",img)\n",
    "\n",
    "#dikdortgen ekleme\n",
    "#hangi resime ekleyeceğin, başlangıç ve bitis noktalarını belirt, renk, cv2.FILLED içini doldurur \n",
    "cv2.rectangle(img, (0,0),(256,256), (255,0,0),cv2.FILLED )\n",
    "cv2.imshow(\"dikdortgen\",img)\n",
    "\n",
    "\n",
    "#cember ekleme\n",
    "#resim,merkez, yaricap, renk\n",
    "cv2.circle(img, (300,300),45,(0,0,255),cv2.FILLED)\n",
    "cv2.imshow(\"daire\",img)\n",
    "\n",
    "#metin \n",
    "#nerede yazılacağı, ne yazılacağı, baslangıc noktası, font, kalınlıgı, ve renk sıralamalarıyla değerler dirmemiz isteniyor \n",
    "cv2.putText(img, \"resim\",(350,350),cv2.FONT_HERSHEY_COMPLEX,1,(255,255,255))\n",
    "cv2.imshow(\"metin\",img)\n",
    "\n",
    "\n",
    "k=cv2.waitKey(0) & 0xFF\n",
    "if k==27: #esc harf değeri, esc basıldığında pencereler kapansın\n",
    "    cv2.destroyAllWindows()"
   ]
  },
  {
   "cell_type": "code",
   "execution_count": null,
   "id": "0552cb92",
   "metadata": {},
   "outputs": [],
   "source": []
  }
 ],
 "metadata": {
  "kernelspec": {
   "display_name": "Python 3 (ipykernel)",
   "language": "python",
   "name": "python3"
  },
  "language_info": {
   "codemirror_mode": {
    "name": "ipython",
    "version": 3
   },
   "file_extension": ".py",
   "mimetype": "text/x-python",
   "name": "python",
   "nbconvert_exporter": "python",
   "pygments_lexer": "ipython3",
   "version": "3.9.12"
  }
 },
 "nbformat": 4,
 "nbformat_minor": 5
}
