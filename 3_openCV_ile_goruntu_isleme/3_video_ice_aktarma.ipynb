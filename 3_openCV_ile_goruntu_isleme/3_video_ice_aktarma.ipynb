{
 "cells": [
  {
   "cell_type": "code",
   "execution_count": 1,
   "id": "b94916ff",
   "metadata": {},
   "outputs": [
    {
     "name": "stdout",
     "output_type": "stream",
     "text": [
      "genişlik:  1920.0\n",
      "yukseklik:  1080.0\n"
     ]
    }
   ],
   "source": [
    "import cv2\n",
    "import time \n",
    "\n",
    "#video yeri\n",
    "video_name=\"video/car.mp4\"\n",
    "\n",
    "#video içe aktar: capture , cap\n",
    "cap=cv2.VideoCapture(video_name)\n",
    "\n",
    "print(\"genişlik: \", cap.get(3))\n",
    "print(\"yukseklik: \", cap.get(4))\n",
    "\n",
    "if cap.isOpened()==False:\n",
    "    print(\"Video yolun yanlış\")\n",
    "while True:\n",
    "    ret, frame=cap.read()\n",
    "\n",
    "    if ret==True:\n",
    "        time.sleep(0.01)#video yavaşlat kullanmazsan video çok hızlı akar\n",
    "        cv2.imshow(video_name,frame)\n",
    "    else: break\n",
    "    \n",
    "    if cv2.waitKey(1) & 0xFF == ord(\"q\"): #q ya basınca çık\n",
    "        break\n",
    "        \n",
    "cap.release()#durdur\n",
    "cv2.destroyAllWindows()"
   ]
  },
  {
   "cell_type": "code",
   "execution_count": null,
   "id": "7d7fb707",
   "metadata": {},
   "outputs": [],
   "source": []
  }
 ],
 "metadata": {
  "kernelspec": {
   "display_name": "Python 3 (ipykernel)",
   "language": "python",
   "name": "python3"
  },
  "language_info": {
   "codemirror_mode": {
    "name": "ipython",
    "version": 3
   },
   "file_extension": ".py",
   "mimetype": "text/x-python",
   "name": "python",
   "nbconvert_exporter": "python",
   "pygments_lexer": "ipython3",
   "version": "3.9.12"
  }
 },
 "nbformat": 4,
 "nbformat_minor": 5
}
