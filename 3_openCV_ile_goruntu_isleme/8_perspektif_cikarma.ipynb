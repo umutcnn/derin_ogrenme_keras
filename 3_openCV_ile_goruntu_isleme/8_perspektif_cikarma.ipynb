{
 "cells": [
  {
   "cell_type": "code",
   "execution_count": 3,
   "id": "ebdd8674",
   "metadata": {},
   "outputs": [
    {
     "name": "stdout",
     "output_type": "stream",
     "text": [
      "[[ 1.49782184e+00  6.39257296e-01 -2.05201592e+02]\n",
      " [-5.68347041e-01  1.33188398e+00  7.78635447e+01]\n",
      " [ 6.40191178e-05  3.36342741e-05  1.00000000e+00]]\n"
     ]
    }
   ],
   "source": [
    "import cv2\n",
    "import numpy as np \n",
    "\n",
    "#ice aktar \n",
    "img = cv2.imread(\"img/card.png\")\n",
    "cv2.imshow(\"orijinal\", img)\n",
    "\n",
    "width=400\n",
    "height=500\n",
    "\n",
    "#kartın 1-2-3-4 noktalarının pait üzerinden kordinatlarını buldum\n",
    "pts1=np.float32([[137,0],[0,321],[369,99],[230,426]])\n",
    "\n",
    "#perspektifi çıkaracağım görüntünün kordinatlarını verdim\n",
    "pts2=np.float32([[0,0],[0,height],[width,0],[width,height]])\n",
    "\n",
    "#perspektif cıkarıyorum\n",
    "matrix = cv2.getPerspectiveTransform(pts1,pts2)\n",
    "print(matrix)\n",
    "\n",
    "\n",
    "#cevirme islemini yapıyorum\n",
    "imgOutput=cv2.warpPerspective(img,matrix,(width,height))\n",
    "cv2.imshow(\"donusturulmus\", imgOutput)\n",
    "\n",
    "k=cv2.waitKey(0) & 0xFF\n",
    "if k==27: #esc harf değeri, esc basıldığında pencereler kapansın\n",
    "    cv2.destroyAllWindows()\n"
   ]
  },
  {
   "cell_type": "code",
   "execution_count": null,
   "id": "182e5042",
   "metadata": {},
   "outputs": [],
   "source": []
  }
 ],
 "metadata": {
  "kernelspec": {
   "display_name": "Python 3 (ipykernel)",
   "language": "python",
   "name": "python3"
  },
  "language_info": {
   "codemirror_mode": {
    "name": "ipython",
    "version": 3
   },
   "file_extension": ".py",
   "mimetype": "text/x-python",
   "name": "python",
   "nbconvert_exporter": "python",
   "pygments_lexer": "ipython3",
   "version": "3.9.12"
  }
 },
 "nbformat": 4,
 "nbformat_minor": 5
}
