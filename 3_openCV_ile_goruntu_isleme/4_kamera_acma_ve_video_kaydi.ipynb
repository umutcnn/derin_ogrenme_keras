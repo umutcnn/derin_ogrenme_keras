{
 "cells": [
  {
   "cell_type": "code",
   "execution_count": 1,
   "id": "0d4adafb",
   "metadata": {},
   "outputs": [
    {
     "name": "stdout",
     "output_type": "stream",
     "text": [
      "640 480\n"
     ]
    }
   ],
   "source": [
    "import cv2 \n",
    "\n",
    "cap=cv2.VideoCapture(0)#0 default kameradır\n",
    "\n",
    "width=int(cap.get(cv2.CAP_PROP_FRAME_WIDTH))#frame genişliği al\n",
    "height =int(cap.get(cv2.CAP_PROP_FRAME_HEIGHT))#frame genişliği al\n",
    "print(width,height)\n",
    "\n",
    "#yazıcı= kaydetmek istedigin isim, çerçeveleri sıkıştırmak içim kullanılır(), video akışında her saniyede göreceğimiz frame sayısı, video frame buyuklugu                   \n",
    "writer=cv2.VideoWriter(\"video_kaydi.mp4\",cv2.VideoWriter_fourcc(*\"DIVX\"),20,(width,height))#video kaydet \n",
    "\n",
    "#video okuma\n",
    "\n",
    "while True: \n",
    "    ret, frame = cap.read()\n",
    "    frame=cv2.flip(frame,1)\n",
    "    cv2.imshow(\"video\",frame)\n",
    "    \n",
    "    #kaydet\n",
    "    writer.write(frame)\n",
    "    \n",
    "    if cv2.waitKey(1) & 0xFF==ord(\"q\"): break #q ya bastığında dursun\n",
    "cap.release()\n",
    "writer.release()\n",
    "cv2.destroyAllWindows()\n",
    "\n"
   ]
  },
  {
   "cell_type": "code",
   "execution_count": null,
   "id": "7fbacb8e",
   "metadata": {},
   "outputs": [],
   "source": []
  }
 ],
 "metadata": {
  "kernelspec": {
   "display_name": "Python 3 (ipykernel)",
   "language": "python",
   "name": "python3"
  },
  "language_info": {
   "codemirror_mode": {
    "name": "ipython",
    "version": 3
   },
   "file_extension": ".py",
   "mimetype": "text/x-python",
   "name": "python",
   "nbconvert_exporter": "python",
   "pygments_lexer": "ipython3",
   "version": "3.9.12"
  }
 },
 "nbformat": 4,
 "nbformat_minor": 5
}
