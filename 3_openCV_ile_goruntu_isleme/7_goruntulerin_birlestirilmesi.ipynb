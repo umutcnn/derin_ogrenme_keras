{
 "cells": [
  {
   "cell_type": "code",
   "execution_count": 6,
   "id": "4762f08c",
   "metadata": {},
   "outputs": [],
   "source": [
    "import cv2\n",
    "import numpy as np\n",
    "\n",
    "#resmi ice aktar\n",
    "img=cv2.imread(\"img/messi.jpg\")\n",
    "cv2.imshow(\"messi\",imgResized)\n",
    "imgResized= cv2.resize(img, (300,300))\n",
    "\n",
    "#yan yana birlestir\n",
    "hor=np.hstack((imgResized,imgResized))\n",
    "cv2.imshow(\"yan yana messi\", hor)\n",
    "\n",
    "#dikey\n",
    "ver = np.vstack((imgResized,imgResized))\n",
    "cv2.imshow(\"ust uste messi\", ver)\n",
    "\n",
    "\n",
    "\n",
    "k=cv2.waitKey(0) & 0xFF\n",
    "if k==27: #esc harf değeri, esc basıldığında pencereler kapansın\n",
    "    cv2.destroyAllWindows()"
   ]
  },
  {
   "cell_type": "code",
   "execution_count": null,
   "id": "1cdda085",
   "metadata": {},
   "outputs": [],
   "source": []
  }
 ],
 "metadata": {
  "kernelspec": {
   "display_name": "Python 3 (ipykernel)",
   "language": "python",
   "name": "python3"
  },
  "language_info": {
   "codemirror_mode": {
    "name": "ipython",
    "version": 3
   },
   "file_extension": ".py",
   "mimetype": "text/x-python",
   "name": "python",
   "nbconvert_exporter": "python",
   "pygments_lexer": "ipython3",
   "version": "3.9.12"
  }
 },
 "nbformat": 4,
 "nbformat_minor": 5
}
