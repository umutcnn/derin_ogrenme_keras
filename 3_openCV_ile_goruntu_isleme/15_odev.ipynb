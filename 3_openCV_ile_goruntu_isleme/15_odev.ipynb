{
 "cells": [
  {
   "cell_type": "code",
   "execution_count": 1,
   "id": "bf37c129",
   "metadata": {},
   "outputs": [],
   "source": [
    "#kütüphaneleri import edelim\n",
    "import cv2\n",
    "import matplotlib.pyplot as plt"
   ]
  },
  {
   "cell_type": "code",
   "execution_count": 16,
   "id": "53006a4a",
   "metadata": {},
   "outputs": [],
   "source": [
    "#görseli siyah beyaz olarak alalım\n",
    "img=cv2.imread(\"img/animals.png\")\n",
    "img_gray=cv2.imread(\"img/animals.png\",0)"
   ]
  },
  {
   "cell_type": "code",
   "execution_count": 8,
   "id": "c31925a7",
   "metadata": {},
   "outputs": [],
   "source": [
    "cv2.imshow(\"odev\", img)\n",
    "k=cv2.waitKey(0) & 0xFF\n",
    "if k==27: #esc harf değeri, esc basıldığında pencereler kapansın\n",
    "    cv2.destroyAllWindows()"
   ]
  },
  {
   "cell_type": "code",
   "execution_count": 9,
   "id": "9400306f",
   "metadata": {},
   "outputs": [
    {
     "name": "stdout",
     "output_type": "stream",
     "text": [
      "(900, 1339, 3)\n"
     ]
    }
   ],
   "source": [
    "#resmin boyutuna bakalım\n",
    "print(img.shape)"
   ]
  },
  {
   "cell_type": "code",
   "execution_count": 10,
   "id": "d2d36de0",
   "metadata": {},
   "outputs": [],
   "source": [
    "#resmi 4/5 oranında tekrar boyutlandıralım\n",
    "img_resized=cv2.resize(img,(int(img.shape[1]*4/5),int(img.shape[0]*4/5)))\n",
    "cv2.imshow(\"yeni goruntu\", img_resized)\n",
    "k=cv2.waitKey(0) & 0xFF\n",
    "if k==27: #esc harf değeri, esc basıldığında pencereler kapansın\n",
    "    cv2.destroyAllWindows()"
   ]
  },
  {
   "cell_type": "code",
   "execution_count": 11,
   "id": "043b338d",
   "metadata": {},
   "outputs": [],
   "source": [
    "#orijinal resmin bir yerine yazı yaz \n",
    "cv2.putText(img,\"kopek\", (0,30), cv2.FONT_HERSHEY_COMPLEX, 1, (0,255,255))\n",
    "cv2.imshow(\"yazili goruntu\", img)\n",
    "k=cv2.waitKey(0) & 0xFF\n",
    "if k==27: #esc harf değeri, esc basıldığında pencereler kapansın\n",
    "    cv2.destroyAllWindows()"
   ]
  },
  {
   "cell_type": "code",
   "execution_count": 12,
   "id": "4f03247a",
   "metadata": {},
   "outputs": [],
   "source": [
    "#orijinal resme 50 nin ustunu trash edelim\n",
    "_,thresh_img= cv2.threshold(img, thresh = 50, maxval=255, type=cv2.THRESH_BINARY)\n",
    "cv2.imshow(\"thresh goruntu\", thresh_img)\n",
    "k=cv2.waitKey(0) & 0xFF\n",
    "if k==27: #esc harf değeri, esc basıldığında pencereler kapansın\n",
    "    cv2.destroyAllWindows()"
   ]
  },
  {
   "cell_type": "code",
   "execution_count": 13,
   "id": "50a50cb5",
   "metadata": {},
   "outputs": [],
   "source": [
    "#gauss uygulayalım\n",
    "gb2=cv2.GaussianBlur(img,ksize=(3,3),sigmaX=7)\n",
    "cv2.imshow(\"thresh goruntu\", gb2)\n",
    "k=cv2.waitKey(0) & 0xFF\n",
    "if k==27: #esc harf değeri, esc basıldığında pencereler kapansın\n",
    "    cv2.destroyAllWindows()"
   ]
  },
  {
   "cell_type": "code",
   "execution_count": 25,
   "id": "714f9d62",
   "metadata": {},
   "outputs": [],
   "source": [
    "#laplacian uygulayalım\n",
    "laplacian=cv2.Laplacian(img,ddepth=cv2.CV_32F)\n",
    "cv2.imshow(\"laplacian goruntu\", laplacian)\n",
    "k=cv2.waitKey(0) & 0xFF\n",
    "if k==27: #esc harf değeri, esc basıldığında pencereler kapansın\n",
    "    cv2.destroyAllWindows()"
   ]
  },
  {
   "cell_type": "code",
   "execution_count": 24,
   "id": "decee595",
   "metadata": {},
   "outputs": [],
   "source": [
    "#laplacian uygulayalım\n",
    "laplacian=cv2.Laplacian(img,ddepth=cv2.CV_64F)\n",
    "cv2.imshow(\"laplacian goruntu\", laplacian)\n",
    "k=cv2.waitKey(0) & 0xFF\n",
    "if k==27: #esc harf değeri, esc basıldığında pencereler kapansın\n",
    "    cv2.destroyAllWindows()"
   ]
  },
  {
   "cell_type": "code",
   "execution_count": 26,
   "id": "8eb5e91b",
   "metadata": {},
   "outputs": [
    {
     "data": {
      "text/plain": [
       "(<Figure size 432x288 with 1 Axes>,\n",
       " [<matplotlib.lines.Line2D at 0x117b4dbf5e0>])"
      ]
     },
     "execution_count": 26,
     "metadata": {},
     "output_type": "execute_result"
    },
    {
     "data": {
      "image/png": "[encoded data removed]",
      "text/plain": [
       "<Figure size 432x288 with 1 Axes>"
      ]
     },
     "metadata": {
      "needs_background": "light"
     },
     "output_type": "display_data"
    }
   ],
   "source": [
    "#histogram olustur\n",
    "img_hist=cv2.calcHist([img], channels=[0],mask=None, histSize=[256], ranges=[0,256])\n",
    "plt.figure(),plt.plot(img_hist)"
   ]
  },
  {
   "cell_type": "code",
   "execution_count": null,
   "id": "cb1778dd",
   "metadata": {},
   "outputs": [],
   "source": []
  }
 ],
 "metadata": {
  "kernelspec": {
   "display_name": "Python 3 (ipykernel)",
   "language": "python",
   "name": "python3"
  },
  "language_info": {
   "codemirror_mode": {
    "name": "ipython",
    "version": 3
   },
   "file_extension": ".py",
   "mimetype": "text/x-python",
   "name": "python",
   "nbconvert_exporter": "python",
   "pygments_lexer": "ipython3",
   "version": "3.9.12"
  }
 },
 "nbformat": 4,
 "nbformat_minor": 5
}
