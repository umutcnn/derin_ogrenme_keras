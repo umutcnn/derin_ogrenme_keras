{
 "cells": [
  {
   "cell_type": "code",
   "execution_count": 1,
   "id": "de542377",
   "metadata": {},
   "outputs": [],
   "source": [
    "import cv2\n",
    "\n",
    "#içe aktarma \n",
    "img = cv2.imread(\"img/messi.jpg\",0) #sondaki 0 resmin gri olmasını sağlar\n",
    "\n",
    "#görsellestirme\n",
    "cv2.imshow(\"ilk resim\", img)\n",
    "\n",
    "k=cv2.waitKey(0) & 0xFF\n",
    "if k==27: #esc harf değeri, esc basıldığında pencereler kapansın\n",
    "    cv2.destroyAllWindows()\n",
    "elif k==ord('s'):\n",
    "    cv2.imwrite(\"mess_gray.png\",img)\n",
    "    cv2.destroyAllWindows()"
   ]
  },
  {
   "cell_type": "code",
   "execution_count": null,
   "id": "cb75dab0",
   "metadata": {},
   "outputs": [],
   "source": []
  }
 ],
 "metadata": {
  "kernelspec": {
   "display_name": "Python 3 (ipykernel)",
   "language": "python",
   "name": "python3"
  },
  "language_info": {
   "codemirror_mode": {
    "name": "ipython",
    "version": 3
   },
   "file_extension": ".py",
   "mimetype": "text/x-python",
   "name": "python",
   "nbconvert_exporter": "python",
   "pygments_lexer": "ipython3",
   "version": "3.9.12"
  }
 },
 "nbformat": 4,
 "nbformat_minor": 5
}
