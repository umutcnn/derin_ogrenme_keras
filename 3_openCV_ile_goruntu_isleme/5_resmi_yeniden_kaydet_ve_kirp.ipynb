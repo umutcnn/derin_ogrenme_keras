{
 "cells": [
  {
   "cell_type": "code",
   "execution_count": 1,
   "id": "fd88d24d",
   "metadata": {},
   "outputs": [
    {
     "name": "stdout",
     "output_type": "stream",
     "text": [
      "resim boyutu:  (900, 1200)\n",
      "yeniden boyutlandırılan görselin boyutu (800, 800)\n"
     ]
    }
   ],
   "source": [
    "import cv2\n",
    "\n",
    "#resmi al\n",
    "img= cv2.imread(\"img/golden_gate.jpg\",0)\n",
    "print(\"resim boyutu: \", img.shape)#boyut alma\n",
    "cv2.imshow(\"orijinal\",img)#resmi goster \n",
    "imgResized= cv2.resize(img, (800,800)) #yeniden boyutlandir\n",
    "print(\"yeniden boyutlandırılan görselin boyutu\", imgResized.shape)#boyut alma\n",
    "cv2.imshow(\"kilmis resim\",imgResized)\n",
    "\n",
    "#kırpma \n",
    "imgCropped=img[:200,:300] #once yukseklik sonra genislik \n",
    "cv2.imshow(\"kilmis resim\",imgCropped)\n",
    "\n",
    "k=cv2.waitKey(0) & 0xFF\n",
    "if k==27: #esc harf değeri, esc basıldığında pencereler kapansın\n",
    "    cv2.destroyAllWindows()"
   ]
  },
  {
   "cell_type": "code",
   "execution_count": null,
   "id": "349e4f6a",
   "metadata": {},
   "outputs": [],
   "source": []
  }
 ],
 "metadata": {
  "kernelspec": {
   "display_name": "Python 3 (ipykernel)",
   "language": "python",
   "name": "python3"
  },
  "language_info": {
   "codemirror_mode": {
    "name": "ipython",
    "version": 3
   },
   "file_extension": ".py",
   "mimetype": "text/x-python",
   "name": "python",
   "nbconvert_exporter": "python",
   "pygments_lexer": "ipython3",
   "version": "3.9.12"
  }
 },
 "nbformat": 4,
 "nbformat_minor": 5
}
