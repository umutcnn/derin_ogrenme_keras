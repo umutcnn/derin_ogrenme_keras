{
 "cells": [
  {
   "cell_type": "code",
   "execution_count": null,
   "id": "47332ab6",
   "metadata": {},
   "outputs": [],
   "source": [
    "import cv2\n",
    "\n",
    "path = \"classifier/cascade.xml\"\n",
    "objectName = \"Mint\"\n",
    "frameWidth = 280\n",
    "frameHeight = 360\n",
    "color = (255,0,255)\n",
    "\n",
    "cap = cv2.VideoCapture(0)\n",
    "cap.set(3, frameWidth)\n",
    "cap.set(4, frameHeight)\n",
    "\n",
    "# trackbar\n",
    "cv2.namedWindow(\"Sonuc\")\n",
    "cv2.resizeWindow(\"Sonuc\", frameWidth, frameHeight + 100)\n",
    "\n",
    "# trackbar'lar icin bos fonksiyon\n",
    "def empty(a): pass\n",
    "\n",
    "\n",
    "#detectMultiscale fonksiyonu icerisindeki scale degerini degistirir.\n",
    "cv2.createTrackbar(\"Scale\",\"Sonuc\", 500, 1000, empty)\n",
    "\n",
    "\n",
    "cv2.createTrackbar(\"Neighbor\",\"Sonuc\", 4, 50, empty)\n",
    "\n",
    "# cascade classifier\n",
    "cascade = cv2.CascadeClassifier(path)\n",
    "\n",
    "\n",
    "\n",
    "while True:\n",
    "    success, img = cap.read()\n",
    "    \n",
    "    if success:\n",
    "        gray = cv2.cvtColor(img, cv2.COLOR_BGR2GRAY)\n",
    "        \n",
    "        # Detection parametreleri\n",
    "        # scale normalde 1-2 arasinda olur fakat rahat hareket ettirebilmek icin boyle yaptik.\n",
    "        scaleVal = 1 + (cv2.getTrackbarPos(\"Scale\", \"Sonuc\") / 1000)\n",
    "        \n",
    "        neighbor = cv2.getTrackbarPos(\"Neighbor\", \"Sonuc\")\n",
    "        \n",
    "        # detection\n",
    "        rects = cascade.detectMultiScale(gray, scaleVal, neighbor)\n",
    "        \n",
    "        for (x, y, w, h) in rects:\n",
    "            cv2.rectangle(img, (x,y), (x+w, y+h), color, 3)\n",
    "            cv2.putText(img, objectName, (x, y-5), cv2.FONT_HERSHEY_COMPLEX_SMALL, 1, color, 2)\n",
    "        \n",
    "        cv2.imshow(\"Sonuc\", img)\n",
    "        \n",
    "    if cv2.waitKey(1) & 0xFF == ord(\"q\"): break\n",
    "\n",
    "cap.release()\n",
    "cv2.destroyAllWindows()\n",
    "        \n",
    " "
   ]
  },
  {
   "cell_type": "code",
   "execution_count": null,
   "id": "14c65cc6",
   "metadata": {},
   "outputs": [],
   "source": []
  },
  {
   "cell_type": "code",
   "execution_count": null,
   "id": "a83d116e",
   "metadata": {},
   "outputs": [],
   "source": []
  }
 ],
 "metadata": {
  "kernelspec": {
   "display_name": "Python 3 (ipykernel)",
   "language": "python",
   "name": "python3"
  },
  "language_info": {
   "codemirror_mode": {
    "name": "ipython",
    "version": 3
   },
   "file_extension": ".py",
   "mimetype": "text/x-python",
   "name": "python",
   "nbconvert_exporter": "python",
   "pygments_lexer": "ipython3",
   "version": "3.9.12"
  }
 },
 "nbformat": 4,
 "nbformat_minor": 5
}
