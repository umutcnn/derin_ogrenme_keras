{
 "cells": [
  {
   "cell_type": "code",
   "execution_count": 1,
   "id": "8731728e",
   "metadata": {},
   "outputs": [
    {
     "name": "stdout",
     "output_type": "stream",
     "text": [
      "['human1.jpg', 'human2.jpg', 'human3.jpg']\n",
      "['human1.jpg', 'human2.jpg', 'human3.jpg']\n",
      "human1.jpg\n",
      "human2.jpg\n",
      "human3.jpg\n"
     ]
    }
   ],
   "source": [
    "import cv2\n",
    "import numpy as np\n",
    "import matplotlib.pyplot as plt #resimler üzerinde çizim yapmak için\n",
    "#çizim yapılan resimleri kaydetmek için\n",
    "%matplotlib inline\n",
    "import os\n",
    "\n",
    "file_path = \"human_img/\"\n",
    "files = os.listdir(file_path)\n",
    "print(files)\n",
    "\n",
    "img_path_list = []\n",
    "\n",
    "# hog tanimlayicisi\n",
    "hog = cv2.HOGDescriptor()\n",
    "\n",
    "# tanimlayiciya SVM ekle\n",
    "hog.setSVMDetector(cv2.HOGDescriptor_getDefaultPeopleDetector())\n",
    "\n",
    "for f in files:\n",
    "    if f.endswith(\".jpg\"):\n",
    "        img_path_list.append(f)\n",
    "print(img_path_list)\n",
    "          \n",
    "for j in img_path_list:\n",
    "    print(j)\n",
    "    \n",
    "    #resmi al\n",
    "    image = cv2.imread(file_path + j)\n",
    "    \n",
    "    (rects, weights) = hog.detectMultiScale(image, padding = (8,8), scale = 1.05)\n",
    "    \n",
    "    for (x, y, w, h) in rects:\n",
    "        cv2.rectangle(image, (x,y), (x+y, y+h), (0,0,255), 2)\n",
    "    \n",
    "    cv2.imshow(j, image)\n",
    "    if cv2.waitKey(0) & 0xFF == ord(\"q\"): \n",
    "        continue\n",
    "cv2.destroyAllWindows()"
   ]
  },
  {
   "cell_type": "code",
   "execution_count": null,
   "id": "3de06a1f",
   "metadata": {},
   "outputs": [],
   "source": []
  }
 ],
 "metadata": {
  "kernelspec": {
   "display_name": "Python 3 (ipykernel)",
   "language": "python",
   "name": "python3"
  },
  "language_info": {
   "codemirror_mode": {
    "name": "ipython",
    "version": 3
   },
   "file_extension": ".py",
   "mimetype": "text/x-python",
   "name": "python",
   "nbconvert_exporter": "python",
   "pygments_lexer": "ipython3",
   "version": "3.9.12"
  }
 },
 "nbformat": 4,
 "nbformat_minor": 5
}
