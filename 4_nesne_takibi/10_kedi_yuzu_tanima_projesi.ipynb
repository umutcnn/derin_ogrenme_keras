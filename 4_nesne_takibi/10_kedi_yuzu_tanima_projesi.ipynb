{
 "cells": [
  {
   "cell_type": "code",
   "execution_count": 42,
   "id": "d08f60de",
   "metadata": {},
   "outputs": [],
   "source": [
    "import cv2\n",
    "import numpy as np\n",
    "import matplotlib.pyplot as plt #resimler üzerinde çizim yapmak için\n",
    "#çizim yapılan resimleri kaydetmek için\n",
    "%matplotlib inline\n",
    "import os"
   ]
  },
  {
   "cell_type": "code",
   "execution_count": 45,
   "id": "50875581",
   "metadata": {},
   "outputs": [
    {
     "name": "stdout",
     "output_type": "stream",
     "text": [
      "['cat.jpg', 'cats.jpeg', 'catt.jpg']\n"
     ]
    }
   ],
   "source": [
    "file_path = \"cat_img/\"\n",
    "files = os.listdir(file_path)\n",
    "print(files)\n"
   ]
  },
  {
   "cell_type": "code",
   "execution_count": 46,
   "id": "5d189820",
   "metadata": {},
   "outputs": [
    {
     "name": "stdout",
     "output_type": "stream",
     "text": [
      "['cat.jpg', 'cats.jpeg', 'catt.jpg']\n"
     ]
    }
   ],
   "source": [
    "#klasördeki sonu jpg ve jpeg ile biten dosyaları oluşturduğum array içersine atıyorum\n",
    "img_path_list =[]\n",
    "for f in files:\n",
    "    if (f.endswith(\".jpg\")) or (f.endswith(\".jpeg\")):\n",
    "        img_path_list.append(f)\n",
    "print(img_path_list)\n",
    "    "
   ]
  },
  {
   "cell_type": "code",
   "execution_count": 47,
   "id": "3d074efb",
   "metadata": {},
   "outputs": [
    {
     "name": "stdout",
     "output_type": "stream",
     "text": [
      "cat.jpg\n",
      "cats.jpeg\n",
      "catt.jpg\n"
     ]
    }
   ],
   "source": [
    "for j in img_path_list:\n",
    "    print(j)\n",
    "    \n",
    "    #resmi al\n",
    "    image = cv2.imread(file_path + j)\n",
    "    \n",
    "    #resmi gri cevir\n",
    "    gray = cv2.cvtColor(image, cv2.COLOR_BGR2GRAY)\n",
    "    \n",
    "    #cascade al\n",
    "    detector = cv2.CascadeClassifier(\"haarcascade_frontalcatface.xml\")\n",
    "    rects = detector.detectMultiScale(gray, scaleFactor = 1.045, minNeighbors = 2)\n",
    "    \n",
    "    for (i, (x,y,w,h)) in enumerate(rects):\n",
    "        #kedilerin nerede oldugunu ciz\n",
    "        cv2.rectangle(image, (x,y), (x+w, y+h),(0,255,255),2)\n",
    "        #kedi 1 - 2 - 3 diye yaz\n",
    "        cv2.putText(image, \"Kedi {}\".format(i+1), (x,y-10),cv2.FONT_HERSHEY_SIMPLEX, 0.55, (0,255,255),2)\n",
    "        \n",
    "    cv2.imshow(j, image)\n",
    "    if cv2.waitKey(0) & 0xFF == ord(\"q\"): \n",
    "        continue\n",
    "cv2.destroyAllWindows()\n",
    "\n"
   ]
  },
  {
   "cell_type": "code",
   "execution_count": null,
   "id": "7fbe7ce7",
   "metadata": {},
   "outputs": [],
   "source": []
  },
  {
   "cell_type": "code",
   "execution_count": null,
   "id": "665f9fa7",
   "metadata": {},
   "outputs": [],
   "source": []
  }
 ],
 "metadata": {
  "kernelspec": {
   "display_name": "Python 3 (ipykernel)",
   "language": "python",
   "name": "python3"
  },
  "language_info": {
   "codemirror_mode": {
    "name": "ipython",
    "version": 3
   },
   "file_extension": ".py",
   "mimetype": "text/x-python",
   "name": "python",
   "nbconvert_exporter": "python",
   "pygments_lexer": "ipython3",
   "version": "3.9.12"
  }
 },
 "nbformat": 4,
 "nbformat_minor": 5
}
